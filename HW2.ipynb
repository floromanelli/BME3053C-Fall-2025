# HW2 
# Name: Florencia Romanelli

# TASK 1 - Systolic Blood Pressure Readings
bp_readings = [120, 137, 151, 123, 162, 173, 127, 154] # systolic blood pressure readings

def normalize_readings(values):
min_value = min(values)
max_values = max(values)

normalized = []
for x in values:
normalized_x = (x-min_value)/(max_value - min_value)
normalized.append(normalized_x)

return normalized
normalized_bp = normalize_readings(bp_readings)

print("Original Readings:", bp_readings)
print("Normalized Readings:", normalized_bp)
